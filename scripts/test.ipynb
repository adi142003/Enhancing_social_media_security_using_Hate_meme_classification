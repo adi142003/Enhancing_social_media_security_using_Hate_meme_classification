{
 "cells": [
  {
   "cell_type": "code",
   "execution_count": 3,
   "metadata": {},
   "outputs": [],
   "source": [
    "import pandas as pd\n",
    "from io import BytesIO\n",
    "import ollama\n",
    "from PIL import Image"
   ]
  },
  {
   "cell_type": "code",
   "execution_count": 2,
   "metadata": {},
   "outputs": [
    {
     "data": {
      "text/plain": [
       "True"
      ]
     },
     "execution_count": 2,
     "metadata": {},
     "output_type": "execute_result"
    }
   ],
   "source": [
    "import torch\n",
    "torch.cuda.is_available()"
   ]
  },
  {
   "cell_type": "code",
   "execution_count": 4,
   "metadata": {},
   "outputs": [
    {
     "data": {
      "text/html": [
       "<div>\n",
       "<style scoped>\n",
       "    .dataframe tbody tr th:only-of-type {\n",
       "        vertical-align: middle;\n",
       "    }\n",
       "\n",
       "    .dataframe tbody tr th {\n",
       "        vertical-align: top;\n",
       "    }\n",
       "\n",
       "    .dataframe thead th {\n",
       "        text-align: right;\n",
       "    }\n",
       "</style>\n",
       "<table border=\"1\" class=\"dataframe\">\n",
       "  <thead>\n",
       "    <tr style=\"text-align: right;\">\n",
       "      <th></th>\n",
       "      <th>Unnamed: 0</th>\n",
       "      <th>image_url</th>\n",
       "      <th>humour</th>\n",
       "      <th>sarcastic</th>\n",
       "      <th>offensive</th>\n",
       "      <th>motivational</th>\n",
       "      <th>overall</th>\n",
       "      <th>ocr</th>\n",
       "    </tr>\n",
       "  </thead>\n",
       "  <tbody>\n",
       "    <tr>\n",
       "      <th>0</th>\n",
       "      <td>0</td>\n",
       "      <td>https://encrypted-tbn0.gstatic.com/images?q=tb...</td>\n",
       "      <td>very_funny</td>\n",
       "      <td>twisted_meaning</td>\n",
       "      <td>not_offensive</td>\n",
       "      <td>not_motivational</td>\n",
       "      <td>neutral</td>\n",
       "      <td>Relationship status.\\nSingle\\nMarried\\nIt's co...</td>\n",
       "    </tr>\n",
       "    <tr>\n",
       "      <th>1</th>\n",
       "      <td>1</td>\n",
       "      <td>https://encrypted-tbn0.gstatic.com/images?q=tb...</td>\n",
       "      <td>very_funny</td>\n",
       "      <td>twisted_meaning</td>\n",
       "      <td>slight</td>\n",
       "      <td>not_motivational</td>\n",
       "      <td>neutral</td>\n",
       "      <td>Bernie or REAGAN?\\nBe informed. Compare them o...</td>\n",
       "    </tr>\n",
       "    <tr>\n",
       "      <th>2</th>\n",
       "      <td>2</td>\n",
       "      <td>https://encrypted-tbn0.gstatic.com/images?q=tb...</td>\n",
       "      <td>funny</td>\n",
       "      <td>general</td>\n",
       "      <td>not_offensive</td>\n",
       "      <td>not_motivational</td>\n",
       "      <td>positive</td>\n",
       "      <td>I HEAR SOMETHING\\nBetter run a mile\\nOMG RAJ?\\...</td>\n",
       "    </tr>\n",
       "    <tr>\n",
       "      <th>3</th>\n",
       "      <td>3</td>\n",
       "      <td>https://preview.redd.it/iwcz3o2niix61.jpg?widt...</td>\n",
       "      <td>very_funny</td>\n",
       "      <td>twisted_meaning</td>\n",
       "      <td>not_offensive</td>\n",
       "      <td>not_motivational</td>\n",
       "      <td>positive</td>\n",
       "      <td>Redditors Visiting IG memepages\\n*dies from cr...</td>\n",
       "    </tr>\n",
       "    <tr>\n",
       "      <th>4</th>\n",
       "      <td>4</td>\n",
       "      <td>https://encrypted-tbn0.gstatic.com/images?q=tb...</td>\n",
       "      <td>not_funny</td>\n",
       "      <td>not_sarcastic</td>\n",
       "      <td>very_offensive</td>\n",
       "      <td>not_motivational</td>\n",
       "      <td>negative</td>\n",
       "      <td>Samajh nahi aaya Par sun ke acabo,\\nBUDGET SPE...</td>\n",
       "    </tr>\n",
       "  </tbody>\n",
       "</table>\n",
       "</div>"
      ],
      "text/plain": [
       "   Unnamed: 0                                          image_url      humour  \\\n",
       "0           0  https://encrypted-tbn0.gstatic.com/images?q=tb...  very_funny   \n",
       "1           1  https://encrypted-tbn0.gstatic.com/images?q=tb...  very_funny   \n",
       "2           2  https://encrypted-tbn0.gstatic.com/images?q=tb...       funny   \n",
       "3           3  https://preview.redd.it/iwcz3o2niix61.jpg?widt...  very_funny   \n",
       "4           4  https://encrypted-tbn0.gstatic.com/images?q=tb...   not_funny   \n",
       "\n",
       "         sarcastic       offensive      motivational   overall  \\\n",
       "0  twisted_meaning   not_offensive  not_motivational   neutral   \n",
       "1  twisted_meaning          slight  not_motivational   neutral   \n",
       "2          general   not_offensive  not_motivational  positive   \n",
       "3  twisted_meaning   not_offensive  not_motivational  positive   \n",
       "4    not_sarcastic  very_offensive  not_motivational  negative   \n",
       "\n",
       "                                                 ocr  \n",
       "0  Relationship status.\\nSingle\\nMarried\\nIt's co...  \n",
       "1  Bernie or REAGAN?\\nBe informed. Compare them o...  \n",
       "2  I HEAR SOMETHING\\nBetter run a mile\\nOMG RAJ?\\...  \n",
       "3  Redditors Visiting IG memepages\\n*dies from cr...  \n",
       "4  Samajh nahi aaya Par sun ke acabo,\\nBUDGET SPE...  "
      ]
     },
     "execution_count": 4,
     "metadata": {},
     "output_type": "execute_result"
    }
   ],
   "source": [
    "df = pd.read_csv('train.csv')\n",
    "df.head()\n"
   ]
  },
  {
   "cell_type": "code",
   "execution_count": 3,
   "metadata": {},
   "outputs": [
    {
     "data": {
      "text/plain": [
       "43069"
      ]
     },
     "execution_count": 3,
     "metadata": {},
     "output_type": "execute_result"
    }
   ],
   "source": [
    "len(df)"
   ]
  },
  {
   "cell_type": "code",
   "execution_count": 4,
   "metadata": {},
   "outputs": [],
   "source": [
    "# df_rationale = pd.DataFrame(columns=['image_url','image_path', 'rationale'])\n",
    "df_rationale = pd.read_csv('val_rationale.csv')"
   ]
  },
  {
   "cell_type": "code",
   "execution_count": 5,
   "metadata": {},
   "outputs": [],
   "source": [
    "def process_image(image_file,user_prompt):\n",
    "    print(f\"\\nProcessing {image_file}\\n\")\n",
    "    with Image.open(image_file) as img:\n",
    "        with BytesIO() as buffer:\n",
    "            img.save(buffer, format='PNG')\n",
    "            image_bytes = buffer.getvalue()\n",
    "\n",
    "    full_response = ''\n",
    "    # Generate a description of the image\n",
    "    for response in ollama.generate(model='llava:34b', \n",
    "                             prompt=user_prompt,\n",
    "\n",
    "                            #  prompt=f\"can you create an AI model\",\n",
    "                             images=[image_bytes], \n",
    "                             stream=True):\n",
    "        # Print the response to the console and add it to the full response\n",
    "        # print(response['response'], end='', flush=True)\n",
    "        full_response += response['response']\n",
    "\n",
    "    return full_response"
   ]
  },
  {
   "cell_type": "code",
   "execution_count": 8,
   "metadata": {},
   "outputs": [
    {
     "name": "stdout",
     "output_type": "stream",
     "text": [
      "\n",
      "Processing trainImages/7.jpg\n",
      "\n",
      "Target Group: The meme targets immigrants.\n",
      "Content Evaluation: It contains offensive language, encouraging violence against them.\n",
      "Context and Implications: The context is a political discussion, possibly concerning immigration policy. This meme promotes xenophobic sentiment.\n",
      "Overall Assessment: The classification of \"hateful_offensive\" is appropriate due to the meme's explicit promotion of violence and its potential to incite hate towards immigrants.\n"
     ]
    }
   ],
   "source": [
    "prompts = []\n",
    "for i in range(7,8):\n",
    "    text_in_image = df['ocr'][i]\n",
    "    image_label = df['offensive'][i]\n",
    "#     prompt=f\"\"\"Given a Text: [{text_in_image}], which is embedded in the above\n",
    "# Image; and a harmfulness label [{image_label}], please\n",
    "# give me a streamlined rationale along with description of  the\n",
    "# meme, without explicitly indicating the label, for\n",
    "# how it is reasoned as [{image_label}].\"\"\"\n",
    "    prompt=f\"\"\"Given the text embedded in the image [{text_in_image}], and the associated label for the image [{image_label}], provide a structured rationale for the image classification without explicitly mentioning the label. Your rationale should include the following categories, each within a 25-word limit:\n",
    "\n",
    "Target Group or Person: Identify if the meme targets a specific individual, group, or demographic. Describe how the text or imagery in the meme addresses or represents them.\n",
    "\n",
    "Content Evaluation: Assess if the content of the meme is potentially offensive or inappropriate. Explain any elements of the text or imagery that contribute to this assessment.\n",
    "\n",
    "Context and Implications: Provide the context in which the meme is presented and how this context influences its perception. Discuss any implications that arise from the combination of text and image.\n",
    "\n",
    "Overall Assessment: Summarize your reasoning by integrating the above categories to present a comprehensive understanding of the meme's impact.\"\"\"\n",
    "    img_path = f\"trainImages/{i}.jpg\"\n",
    "    response = process_image(img_path,prompt)\n",
    "\n",
    "    # df_rationale.loc[i, 'Unnamed: 0'] = i\n",
    "    # df_rationale.loc[i, 'image_url'] = df['image_url'][i]\n",
    "    # df_rationale.loc[i, 'image_path'] = img_path\n",
    "    # df_rationale.loc[i, 'rationale'] = response\n",
    "    print(response)"
   ]
  },
  {
   "cell_type": "code",
   "execution_count": null,
   "metadata": {},
   "outputs": [],
   "source": [
    "df_rationale.to_csv(\"val_rationale.csv\")"
   ]
  },
  {
   "cell_type": "code",
   "execution_count": null,
   "metadata": {},
   "outputs": [],
   "source": []
  }
 ],
 "metadata": {
  "kernelspec": {
   "display_name": "Python 3",
   "language": "python",
   "name": "python3"
  },
  "language_info": {
   "codemirror_mode": {
    "name": "ipython",
    "version": 3
   },
   "file_extension": ".py",
   "mimetype": "text/x-python",
   "name": "python",
   "nbconvert_exporter": "python",
   "pygments_lexer": "ipython3",
   "version": "3.10.14"
  }
 },
 "nbformat": 4,
 "nbformat_minor": 2
}
